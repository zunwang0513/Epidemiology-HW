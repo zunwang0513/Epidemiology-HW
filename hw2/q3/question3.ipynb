{
 "cells": [
  {
   "cell_type": "markdown",
   "id": "627f109c-44a0-4970-b94b-22f4574761f7",
   "metadata": {},
   "source": [
    "Question3"
   ]
  },
  {
   "cell_type": "markdown",
   "id": "42dce0de-9445-4ed3-948d-013fbbf0dc89",
   "metadata": {},
   "source": [
    "3.1"
   ]
  },
  {
   "cell_type": "code",
   "execution_count": 139,
   "id": "04850d43-9569-4da6-8d4b-06ab1c8fb397",
   "metadata": {},
   "outputs": [],
   "source": [
    "import numpy as np\n",
    "import matplotlib.pyplot as plt\n",
    "from scipy.sparse.linalg import eigs\n",
    "import networkx as nx\n",
    "import EoN"
   ]
  },
  {
   "cell_type": "code",
   "execution_count": 125,
   "id": "50e55cba-c214-4e7d-93a2-b71485ce403c",
   "metadata": {},
   "outputs": [],
   "source": [
    "cayley_tree = np.genfromtxt(\"q3/cayley.txt\", delimiter=' ',dtype=int)\n",
    "tree =  nx.from_edgelist(cayley_tree)"
   ]
  },
  {
   "cell_type": "code",
   "execution_count": 132,
   "id": "a3622518-555c-4db7-9093-9635deda18da",
   "metadata": {},
   "outputs": [],
   "source": [
    "beta = 0.2\n",
    "gamma = 0.0\n",
    "with open(\"q3/3.1out.txt\",\"w\") as f:\n",
    "    pass\n",
    "for repeat in range(100):\n",
    "    SIS = EoN.fast_SIS(tree, tau=beta, gamma=gamma, tmax = 10,initial_infecteds = 0,return_full_data = True)\n",
    "    statuses = SIS.get_statuses(time=10)\n",
    "    infected_nodes = []\n",
    "    with open(\"q3/3.1out.txt\",\"a\") as f:\n",
    "        for key, status in statuses.items():\n",
    "            if status == \"I\":\n",
    "                f.write(str(key)+\" \")\n",
    "        if repeat != 99:\n",
    "            f.write(\"\\n\")\n",
    "    f.close()\n",
    "    "
   ]
  },
  {
   "cell_type": "markdown",
   "id": "5f58f1c2-71d3-44e7-99c1-84a49c40c020",
   "metadata": {},
   "source": [
    "3.2"
   ]
  },
  {
   "cell_type": "code",
   "execution_count": 133,
   "id": "875af83c-d2ce-4245-a163-13853efc09e2",
   "metadata": {},
   "outputs": [
    {
     "name": "stdout",
     "output_type": "stream",
     "text": [
      "0.9\n"
     ]
    }
   ],
   "source": [
    "subnode = []\n",
    "with open(\"q3/3.1out.txt\",\"r\") as g:\n",
    "    for line in g:\n",
    "        line = list(line.split(\" \"))\n",
    "        line = line[:-1]\n",
    "        line = list(map(int, line))\n",
    "        subnode.append(line)\n",
    "subgraphs = []\n",
    "correct_count = 0\n",
    "for idx in range(len(subnode)):\n",
    "    subgraph = tree.subgraph(subnode[idx])\n",
    "    center = nx.center(subgraph)\n",
    "    if 0 in center:\n",
    "        correct_count += 1\n",
    "print(correct_count / 100)\n",
    "    "
   ]
  },
  {
   "cell_type": "markdown",
   "id": "8152d8a4-c2a7-4ab9-8de9-53f7a575dfbd",
   "metadata": {},
   "source": [
    "3.3"
   ]
  },
  {
   "cell_type": "code",
   "execution_count": 136,
   "id": "07ae2d0f-be89-4d23-b471-86a3234024f3",
   "metadata": {},
   "outputs": [],
   "source": [
    "beta = 0.2\n",
    "gamma = 0.0\n",
    "with open(\"q3/3.3out.txt\",\"w\") as f:\n",
    "    pass\n",
    "for repeat in range(100):\n",
    "    SIS = EoN.fast_SIS(tree, tau=beta, gamma=gamma, tmax = 10,initial_infecteds = 1,return_full_data = True)\n",
    "    statuses = SIS.get_statuses(time=10)\n",
    "    infected_nodes = []\n",
    "    with open(\"q3/3.3out.txt\",\"a\") as f:\n",
    "        for key, status in statuses.items():\n",
    "            if status == \"I\":\n",
    "                f.write(str(key)+\" \")\n",
    "        if repeat != 99:\n",
    "            f.write(\"\\n\")\n",
    "    f.close()"
   ]
  },
  {
   "cell_type": "code",
   "execution_count": 137,
   "id": "37389866-558e-4f0a-ac97-79ef32f870d7",
   "metadata": {},
   "outputs": [
    {
     "name": "stdout",
     "output_type": "stream",
     "text": [
      "0.44\n"
     ]
    }
   ],
   "source": [
    "subnode = []\n",
    "with open(\"q3/3.3out.txt\",\"r\") as g:\n",
    "    for line in g:\n",
    "        line = list(line.split(\" \"))\n",
    "        line = line[:-1]\n",
    "        line = list(map(int, line))\n",
    "        subnode.append(line)\n",
    "correct_count = 0\n",
    "for idx in range(len(subnode)):\n",
    "    subgraph = tree.subgraph(subnode[idx])\n",
    "    center = nx.center(subgraph)\n",
    "    if 1 in center:\n",
    "        correct_count += 1\n",
    "print(correct_count / 100)\n",
    "    "
   ]
  }
 ],
 "metadata": {
  "kernelspec": {
   "display_name": "Python 3 (ipykernel)",
   "language": "python",
   "name": "python3"
  },
  "language_info": {
   "codemirror_mode": {
    "name": "ipython",
    "version": 3
   },
   "file_extension": ".py",
   "mimetype": "text/x-python",
   "name": "python",
   "nbconvert_exporter": "python",
   "pygments_lexer": "ipython3",
   "version": "3.10.7"
  }
 },
 "nbformat": 4,
 "nbformat_minor": 5
}

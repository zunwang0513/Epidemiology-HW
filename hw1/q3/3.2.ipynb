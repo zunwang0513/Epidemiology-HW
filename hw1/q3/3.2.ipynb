{
 "cells": [
  {
   "cell_type": "code",
   "execution_count": 2,
   "id": "02049d32-f6d9-464f-b512-61b64b323e90",
   "metadata": {},
   "outputs": [],
   "source": [
    "from datetime import datetime\n",
    "import numpy as np\n",
    "import networkx as nx"
   ]
  },
  {
   "cell_type": "code",
   "execution_count": 3,
   "id": "6f2807af-eb02-422c-943f-2cd29924df32",
   "metadata": {},
   "outputs": [],
   "source": [
    "edge=np.genfromtxt(\"network.txt\", delimiter='  ',dtype=int)\n",
    "action=np.genfromtxt(\"Ratings.timed.csv\",delimiter=',',dtype=str)\n",
    "action = action[1:]\n",
    "for act in action:\n",
    "    act[3] = np.char.replace(act[3],\"/\",\"-\")\n",
    "    act[3] = np.char.replace(act[3],\" 0:00\",\"\")\n",
    "    if act[3][6] == \"-\":\n",
    "        act[3] = act[3][0:5]+\"0\"+act[3][5:]\n",
    "    if len(act[3]) == 9:\n",
    "        act[3] = act[3][0:8]+\"0\"+act[3][8:]\n",
    "    act[3] = datetime.fromisoformat(act[3]).timestamp()\n",
    "sortedAct = action[action[:,3].argsort()]\n",
    "\n",
    "sortedAct = sortedAct[:,[0,1]].astype(int)\n"
   ]
  },
  {
   "cell_type": "code",
   "execution_count": 4,
   "id": "424a12c3-e1cb-4a71-a554-9056542d432b",
   "metadata": {},
   "outputs": [],
   "source": [
    "edgedic = {}\n",
    "for edgeinfo in edge:\n",
    "    edgedic[edgeinfo[0],edgeinfo[1]] = [0,0]"
   ]
  },
  {
   "cell_type": "code",
   "execution_count": 5,
   "id": "b892087f-76d7-496f-b68c-acaf36c354ee",
   "metadata": {},
   "outputs": [],
   "source": [
    "neighbor = {}\n",
    "for nodecouple in edge:\n",
    "    if nodecouple[0] in neighbor.keys():\n",
    "        pass\n",
    "    else:\n",
    "        neighbor[nodecouple[0]] = []\n",
    "    neighbor[nodecouple[0]].append(nodecouple[1])"
   ]
  },
  {
   "cell_type": "code",
   "execution_count": 39,
   "id": "cc79ffbc-9091-41c7-b177-c2a203f00954",
   "metadata": {},
   "outputs": [],
   "source": [
    "infected = {}\n",
    "for nodecouple in edge:\n",
    "    if nodecouple[0] not in infected.keys():\n",
    "        infected[nodecouple[0]] = 0\n",
    "    if nodecouple[1] not in infected.keys():\n",
    "        infected[nodecouple[1]] = 0"
   ]
  },
  {
   "cell_type": "code",
   "execution_count": 41,
   "id": "72194654-30ba-4ee0-ad34-dd8769e57626",
   "metadata": {},
   "outputs": [],
   "source": [
    "count = 0\n",
    "for attemptidx in range(len(sortedAct)):\n",
    "    if sortedAct[attemptidx][0] in neighbor.keys():\n",
    "        for nb in neighbor[sortedAct[attemptidx][0]]:\n",
    "            edgedic[sortedAct[attemptidx][0],nb][0] += 1\n",
    "            if tuple([nb,sortedAct[attemptidx][1]]) in sortedAct:\n",
    "                if len(np.where((sortedAct[:,0] == nb)&(sortedAct[:,1] == sortedAct[attemptidx][1]))[0]) != 0:\n",
    "                    #print(np.where((sortedAct[:,0] == nb)&(sortedAct[:,1] == sortedAct[attemptidx][1]))[0])\n",
    "                    if np.where((sortedAct[:,0] == nb)&(sortedAct[:,1] == sortedAct[attemptidx][1]))[0][0] > attemptidx and infected[nb] == 0:\n",
    "                        edgedic[sortedAct[attemptidx][0],nb][1] += 1\n",
    "                        infected[nb] = 1"
   ]
  },
  {
   "cell_type": "code",
   "execution_count": 61,
   "id": "83bd83dd-9de8-4634-839d-5a7e955672c3",
   "metadata": {},
   "outputs": [],
   "source": [
    "with open(\"3.2output.txt\",\"w\") as output:\n",
    "    for key in edgedic.keys():\n",
    "        if edgedic[key][0] != 0:\n",
    "            output.write(str(key[0])+\",\"+str(key[1])+\",\"+str(edgedic[key][1]/edgedic[key][0])+\"\\n\")\n",
    "        else:\n",
    "            output.write(str(key[0])+\",\"+str(key[1])+\",\"+\"0.0\\n\")\n",
    "output.close()"
   ]
  },
  {
   "cell_type": "code",
   "execution_count": 97,
   "id": "68c7e542-093c-4cd4-9aac-d9bc58a7be81",
   "metadata": {},
   "outputs": [
    {
     "name": "stdout",
     "output_type": "stream",
     "text": [
      "6349\n"
     ]
    }
   ],
   "source": [
    "pudic={}\n",
    "for key in edgedic.keys():\n",
    "    if key[0] not in pudic.keys():\n",
    "        pudic[key[0]] = 0.0\n",
    "    if edgedic[key][0] != 0:\n",
    "        pudic[key[0]] += edgedic[key][1]/edgedic[key][0]\n",
    "node = list(pudic.keys())\n",
    "pu = list(pudic.values())"
   ]
  },
  {
   "cell_type": "code",
   "execution_count": 111,
   "id": "88877d87-4ca0-4bd9-a737-f193abdbed22",
   "metadata": {},
   "outputs": [
    {
     "data": {
      "image/png": "[encoded data removed]",
      "text/plain": [
       "<Figure size 432x288 with 1 Axes>"
      ]
     },
     "metadata": {
      "needs_background": "light"
     },
     "output_type": "display_data"
    }
   ],
   "source": [
    "from matplotlib import pyplot as plt\n",
    "plt.bar(node,pu,align=\"center\")\n",
    "plt.title(\"sigma pu\")\n",
    "plt.xlabel(\"node\")\n",
    "plt.ylabel(\"pu\")\n",
    "plt.xlim(0,len(node))\n",
    "plt.yscale(\"log\")\n",
    "plt.show()"
   ]
  }
 ],
 "metadata": {
  "kernelspec": {
   "display_name": "Python 3 (ipykernel)",
   "language": "python",
   "name": "python3"
  },
  "language_info": {
   "codemirror_mode": {
    "name": "ipython",
    "version": 3
   },
   "file_extension": ".py",
   "mimetype": "text/x-python",
   "name": "python",
   "nbconvert_exporter": "python",
   "pygments_lexer": "ipython3",
   "version": "3.9.13"
  }
 },
 "nbformat": 4,
 "nbformat_minor": 5
}

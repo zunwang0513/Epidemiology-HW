{
 "cells": [
  {
   "cell_type": "code",
   "execution_count": 2,
   "id": "34c764c8-7e02-4a13-ba42-7069cb1c5acc",
   "metadata": {},
   "outputs": [],
   "source": [
    "import numpy as np\n",
    "import pandas as pd\n",
    "from scipy.integrate import ode, solve_ivp\n",
    "import matplotlib.pyplot as plt"
   ]
  },
  {
   "cell_type": "code",
   "execution_count": 3,
   "id": "205c546d-3091-4a9a-84c5-cef8bc84c843",
   "metadata": {},
   "outputs": [],
   "source": [
    "def sir_ode(times,init,parms):\n",
    "        a,b,p,g,d,r,e,= parms\n",
    "        X,Y,Z = init\n",
    "        dX = a*X-b*X*Y-p*X*Z\n",
    "        dY = g*X*Y-d*Y\n",
    "        dZ = r*X*Z-e*Z\n",
    "        return [dX,dY,dZ]"
   ]
  },
  {
   "cell_type": "code",
   "execution_count": 4,
   "id": "e4c058c9-e619-45d9-a6f9-1c7ebac03867",
   "metadata": {},
   "outputs": [],
   "source": [
    "times = np.linspace(0,100,2001)\n",
    "parms = [1,1,1,1,1.5,1,2]\n",
    "init = [2,0,1]"
   ]
  },
  {
   "cell_type": "code",
   "execution_count": 5,
   "id": "f174abc7-cacd-4b00-93b0-336855385c96",
   "metadata": {},
   "outputs": [],
   "source": [
    "sir_sol = solve_ivp(fun=lambda t, y: sir_ode(t,y,parms),t_span=[min(times),max(times)],y0=init,t_eval=times)\n",
    "\n",
    "sir_out = pd.DataFrame({\"t\":sir_sol[\"t\"],\"X\":sir_sol[\"y\"][0],\"Y\":sir_sol[\"y\"][1],\"Z\":sir_sol[\"y\"][2]})\n",
    "\n",
    "plt.style.use(\"ggplot\")"
   ]
  },
  {
   "cell_type": "code",
   "execution_count": 6,
   "id": "268f766d-0676-412d-b641-691267efd2ad",
   "metadata": {},
   "outputs": [
    {
     "data": {
      "image/png": "[encoded data removed]",
      "text/plain": [
       "<Figure size 432x288 with 1 Axes>"
      ]
     },
     "metadata": {},
     "output_type": "display_data"
    }
   ],
   "source": [
    "xline = plt.plot(\"t\",\"X\",\"\",data=sir_out,color=\"red\",linewidth=2)\n",
    "yline = plt.plot(\"t\",\"Y\",\"\",data=sir_out,color=\"green\",linewidth=2)\n",
    "zline = plt.plot(\"t\",\"Z\",\"\",data=sir_out,color=\"blue\",linewidth=2)\n",
    "plt.xlabel(\"Time\",fontweight=\"bold\")\n",
    "plt.ylabel(\"Number\",fontweight=\"bold\")\n",
    "legend = plt.legend(title=\"Population\",loc=5,bbox_to_anchor=(1.25,0.5))\n",
    "frame = legend.get_frame()\n",
    "frame.set_facecolor(\"white\")\n",
    "frame.set_linewidth(0)"
   ]
  }
 ],
 "metadata": {
  "kernelspec": {
   "display_name": "Python 3 (ipykernel)",
   "language": "python",
   "name": "python3"
  },
  "language_info": {
   "codemirror_mode": {
    "name": "ipython",
    "version": 3
   },
   "file_extension": ".py",
   "mimetype": "text/x-python",
   "name": "python",
   "nbconvert_exporter": "python",
   "pygments_lexer": "ipython3",
   "version": "3.9.13"
  }
 },
 "nbformat": 4,
 "nbformat_minor": 5
}

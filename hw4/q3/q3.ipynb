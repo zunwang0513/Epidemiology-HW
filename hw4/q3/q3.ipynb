{
 "cells": [
  {
   "cell_type": "code",
   "execution_count": 100,
   "id": "fb5aa824-02d4-4aa2-9a83-bcd86472a2f1",
   "metadata": {},
   "outputs": [],
   "source": [
    "import numpy as np\n",
    "import matplotlib.pyplot as plt\n",
    "import os\n",
    "import pandas as pd\n",
    "from scipy import stats\n",
    "from statsmodels.tsa.arima.model import ARIMA\n",
    "from sklearn.metrics import mean_squared_error as mse\n",
    "from statsmodels.regression.linear_model import OLS\n",
    "from math import sqrt\n",
    "import statsmodels"
   ]
  },
  {
   "cell_type": "markdown",
   "id": "4ed562b9-c655-428a-bdb7-358c26c31083",
   "metadata": {},
   "source": [
    "3.1"
   ]
  },
  {
   "cell_type": "code",
   "execution_count": 6,
   "id": "ad0366f9-7fd9-49a0-93f6-805b35282edc",
   "metadata": {},
   "outputs": [],
   "source": [
    "data = pd.read_csv('covid-data-us-national.txt',index_col='date', parse_dates=['date'])"
   ]
  },
  {
   "cell_type": "code",
   "execution_count": 192,
   "id": "93e6d653-f7d2-4284-bd47-3ae523ac37ed",
   "metadata": {
    "tags": []
   },
   "outputs": [],
   "source": [
    "#split train and test set\n",
    "train_df = data.loc['2020-03-07':'2020-08-29']\n",
    "test_df = data.loc['2020-09-05':'2020-09-26']\n",
    "train = train_df['death_jhu_incidence'].tolist()\n",
    "test = test_df['death_jhu_incidence'].tolist()"
   ]
  },
  {
   "cell_type": "code",
   "execution_count": 193,
   "id": "806c8f09-4f72-496e-a3e0-76182c51bedd",
   "metadata": {},
   "outputs": [
    {
     "name": "stdout",
     "output_type": "stream",
     "text": [
      "rmse of arima:  1812.0965227401564\n"
     ]
    },
    {
     "name": "stderr",
     "output_type": "stream",
     "text": [
      "C:\\Users\\Zun Wang\\AppData\\Local\\Packages\\PythonSoftwareFoundation.Python.3.10_qbz5n2kfra8p0\\LocalCache\\local-packages\\Python310\\site-packages\\statsmodels\\base\\model.py:604: ConvergenceWarning: Maximum Likelihood optimization failed to converge. Check mle_retvals\n",
      "  warnings.warn(\"Maximum Likelihood optimization failed to \"\n",
      "C:\\Users\\Zun Wang\\AppData\\Local\\Packages\\PythonSoftwareFoundation.Python.3.10_qbz5n2kfra8p0\\LocalCache\\local-packages\\Python310\\site-packages\\statsmodels\\base\\model.py:604: ConvergenceWarning: Maximum Likelihood optimization failed to converge. Check mle_retvals\n",
      "  warnings.warn(\"Maximum Likelihood optimization failed to \"\n"
     ]
    }
   ],
   "source": [
    "#run arima model for forecasting\n",
    "forecast_result = []\n",
    "for i in range(len(test)):\n",
    "    arima_model = ARIMA(train, order = (2,0,2))\n",
    "    arima_fit = arima_model.fit()\n",
    "    forecast = arima_fit.forecast()\n",
    "    train.append(forecast[0])\n",
    "    forecast_result.append(forecast[0])\n",
    "rmse_arima = mse(test,forecast_result,squared=False)\n",
    "print('rmse of arima: ',rmse_error)"
   ]
  },
  {
   "cell_type": "markdown",
   "id": "450272e4-8b93-4b39-b5a7-231b4c8ed6b0",
   "metadata": {},
   "source": [
    "3.2"
   ]
  },
  {
   "cell_type": "code",
   "execution_count": 189,
   "id": "2eecd815-1822-460d-81af-0ff2e5b40397",
   "metadata": {},
   "outputs": [
    {
     "name": "stdout",
     "output_type": "stream",
     "text": [
      "rmse of ols:  1992.0691496008976\n"
     ]
    }
   ],
   "source": [
    "#split train and test data for ols\n",
    "train_df=data.loc['2020-03-07':'2020-08-29']\n",
    "train_X = train_df[['mobility','totalTests','covid_cases']]\n",
    "train_X = statsmodels.tools.tools.add_constant(train_X)\n",
    "train_Y = train_df['death_jhu_incidence'].tolist()\n",
    "test_df=data.loc['2020-09-05':'2020-09-26']\n",
    "test_X_full=test_df[['mobility','totalTests','covid_cases']]\n",
    "test_X_full=statsmodels.tools.tools.add_constant(test_X_full)\n",
    "test_Y=test_df['death_jhu_incidence'].tolist()\n",
    "X=pd.concat([train_X,test_X_full])\n",
    "\n",
    "ols_result = []\n",
    "#run ols model, rolling the predicted output into training set\n",
    "for i in range(len(test_Y)):\n",
    "    test_X = test_X_full.iloc[i, :]\n",
    "    ols_model = OLS(train_Y,train_X)\n",
    "    ols_fit = ols_model.fit()\n",
    "    forecast = ols_fit.predict(test_X)\n",
    "    ols_result.append(forecast[0])\n",
    "    train_Y.append(forecast[0])\n",
    "    train_X=X.head(train_X.shape[0]+1)\n",
    "\n",
    "ols_rmse = mse(test_Y,ols_result,squared=False)\n",
    "print('rmse of ols: ', ols_rmse)"
   ]
  },
  {
   "cell_type": "markdown",
   "id": "38261d3f-201c-49bc-9e16-6e5daff52451",
   "metadata": {},
   "source": [
    "3.3"
   ]
  },
  {
   "cell_type": "code",
   "execution_count": 205,
   "id": "96e22312-ff84-44f2-a481-a371597a445b",
   "metadata": {},
   "outputs": [
    {
     "name": "stdout",
     "output_type": "stream",
     "text": [
      "arima rmse: 1812.0965227401564\n",
      "ols rmse: 2864.671904742172\n"
     ]
    }
   ],
   "source": [
    "# arima only for training\n",
    "train_df=data.loc['2020-03-07':'2020-08-29']\n",
    "train_arima=train_df['death_jhu_incidence'].tolist()\n",
    "arima_model = ARIMA(train_arima, order=(2,0,2))\n",
    "arima_fit = arima_model.fit()\n",
    "forecast_arima = arima_fit.apply(train_arima)\n",
    "arima_output = forecast_arima.fittedvalues\n",
    "rmse_arima_train = mse(arima_output,train_arima,squared=False)\n",
    "print('arima rmse:', rmse_arima)\n",
    "\n",
    "# OLS only for training\n",
    "train_Y = train_df['death_jhu_incidence']\n",
    "train_X = train_df[['mobility','totalTests','covid_cases']]\n",
    "train_X = statsmodels.tools.tools.add_constant(train_X)\n",
    "\n",
    "ols_model = OLS(train_Y,train_X)\n",
    "ols_fit = ols_model.fit()\n",
    "ols_output = ols_fit.predict(train_X)\n",
    "\n",
    "rmse_ols_train= mse(ols_output,train_Y,squared=False)\n",
    "print('ols rmse:' , rmse_ols)"
   ]
  },
  {
   "cell_type": "code",
   "execution_count": 206,
   "id": "35c56b87-cc30-4903-a019-cea0c242a954",
   "metadata": {},
   "outputs": [
    {
     "name": "stdout",
     "output_type": "stream",
     "text": [
      "rmse of EM1: 1624.75162518402\n",
      "rmse of EM2: 1507.8709869242582\n"
     ]
    }
   ],
   "source": [
    "#EM1\n",
    "em1 = (arima_output + ols_output) / 2\n",
    "rmse_em1 = mse(train_Y,em1,squared=False)\n",
    "print('rmse of EM1:',rmse_em1)\n",
    "#EM2, applied weight\n",
    "em2 = ((1/rmse_arima_train)*arima_output+(1/rmse_ols_train)*ols_output)/((1/rmse_arima_train)+(1/rmse_ols_train))\n",
    "rmse_em2 = mse(train_Y,em2,squared=False)\n",
    "print('rmse of EM2:',rmse_em2)"
   ]
  }
 ],
 "metadata": {
  "kernelspec": {
   "display_name": "Python 3 (ipykernel)",
   "language": "python",
   "name": "python3"
  },
  "language_info": {
   "codemirror_mode": {
    "name": "ipython",
    "version": 3
   },
   "file_extension": ".py",
   "mimetype": "text/x-python",
   "name": "python",
   "nbconvert_exporter": "python",
   "pygments_lexer": "ipython3",
   "version": "3.10.8"
  }
 },
 "nbformat": 4,
 "nbformat_minor": 5
}
